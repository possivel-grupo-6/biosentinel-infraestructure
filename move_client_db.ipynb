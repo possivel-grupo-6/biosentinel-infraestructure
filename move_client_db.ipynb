{
 "cells": [
  {
   "cell_type": "code",
   "execution_count": null,
   "id": "1926894f",
   "metadata": {},
   "outputs": [],
   "source": [
    "from pyspark import SparkConf\n",
    "from pyspark.sql import SparkSession\n",
    "from pyspark.sql.types import StructType, StructField, IntegerType, StringType\n",
    "from pyspark.sql.functions import regexp_extract, col, input_file_name\n",
    "\n",
    "conf = SparkConf()\n",
    "conf.set('spark.jars.packages', 'org.apache.hadoop:hadoop-aws:3.2.2')\n",
    "conf.set('spark.jars.packages', 'org.apache.hadoop:hadoop-aws:3.2.2,mysql:mysql-connector-java:8.0.33')\n",
    "conf.set('spark.hadoop.fs.s3a.aws.credentials.provider', 'com.amazonaws.auth.InstanceProfileCredentialsProvider')\n",
    "spark = SparkSession.builder.config(conf=conf).getOrCreate()"
   ]
  },
  {
   "cell_type": "code",
   "execution_count": 32,
   "id": "6247bbb3",
   "metadata": {
    "scrolled": true
   },
   "outputs": [
    {
     "name": "stderr",
     "output_type": "stream",
     "text": [
      "                                                                                \r"
     ]
    },
    {
     "name": "stdout",
     "output_type": "stream",
     "text": [
      "+---------+--------------------+-------------------+\n",
      "|fk_sensor|               value|         created_at|\n",
      "+---------+--------------------+-------------------+\n",
      "|        5|{\"value\":{\"humid\"...|2024-09-11_00-10-00|\n",
      "|        5|{\"value\":{\"humid\"...|2024-09-11_00-20-00|\n",
      "|        5|{\"value\":{\"humid\"...|2024-09-11_00-30-00|\n",
      "|        5|{\"value\":{\"humid\"...|2024-09-11_00-40-00|\n",
      "|        5|{\"value\":{\"humid\"...|2024-09-11_01-00-00|\n",
      "|        5|{\"value\":{\"humid\"...|2024-09-11_01-10-00|\n",
      "|        5|{\"value\":{\"humid\"...|2024-09-11_01-30-00|\n",
      "|        5|{\"value\":{\"humid\"...|2024-09-11_01-50-00|\n",
      "|        5|{\"value\":{\"humid\"...|2024-09-11_02-00-00|\n",
      "|        5|{\"value\":{\"humid\"...|2024-09-11_02-30-00|\n",
      "|        5|{\"value\":{\"humid\"...|2024-09-11_02-40-00|\n",
      "|        5|{\"value\":{\"humid\"...|2024-09-11_03-00-00|\n",
      "|        5|{\"value\":{\"humid\"...|2024-09-11_03-10-00|\n",
      "|        5|{\"value\":{\"humid\"...|2024-09-11_03-20-00|\n",
      "|        5|{\"value\":{\"humid\"...|2024-09-11_03-30-00|\n",
      "|        5|{\"value\":{\"humid\"...|2024-09-11_03-50-00|\n",
      "|        5|{\"value\":{\"humid\"...|2024-09-11_04-00-00|\n",
      "|        5|{\"value\":{\"humid\"...|2024-09-11_04-10-00|\n",
      "|        5|{\"value\":{\"humid\"...|2024-09-11_04-20-00|\n",
      "|        5|{\"value\":{\"humid\"...|2024-09-11_04-30-00|\n",
      "+---------+--------------------+-------------------+\n",
      "only showing top 20 rows\n",
      "\n"
     ]
    }
   ],
   "source": [
    "schema = StructType([\n",
    "    StructField(\"data\", StringType())\n",
    "])\n",
    "\n",
    "df = spark.read.schema(schema).json('s3a://bucket-biosentinel-2semestre-client/umid-temp/2024-09-11/*.json')\n",
    "\n",
    "df = df.withColumn(\"fk_sensor\", regexp_extract(input_file_name(), r'.*_(\\d+)\\.json', 1).cast(IntegerType()))\n",
    "df = df.withColumn(\"value\", col(\"data\"))\n",
    "df = df.withColumn(\"created_at\", regexp_extract(input_file_name(), r'umid-temp_(\\d{4}-\\d{2}-\\d{2}_\\d{2}-\\d{2}-\\d{2})_(\\d+)\\.json', 1))\n",
    "\n",
    "# Selecione as colunas necessárias para o CSV\n",
    "df_csv = df.select(\"fk_sensor\", \"value\", \"created_at\")\n",
    "\n",
    "# Exiba o DataFrame como um CSV\n",
    "df_csv.show()"
   ]
  },
  {
   "cell_type": "code",
   "execution_count": 33,
   "id": "a87446e1",
   "metadata": {
    "scrolled": true
   },
   "outputs": [
    {
     "name": "stderr",
     "output_type": "stream",
     "text": [
      "[Stage 42:==============================================>           (4 + 1) / 5]\r"
     ]
    },
    {
     "name": "stdout",
     "output_type": "stream",
     "text": [
      "done\n"
     ]
    },
    {
     "name": "stderr",
     "output_type": "stream",
     "text": [
      "                                                                                \r"
     ]
    }
   ],
   "source": [
    "# Conexão com o banco\n",
    "url = 'jdbc:mysql://database-biosentinel.c2xugs21oous.us-east-1.rds.amazonaws.com:3306/biosentinel-database'\n",
    "tablename = 'data_sensor'\n",
    "user = 'biosentineladmin'\n",
    "password = '4d`#NT3wgwQb'\n",
    "\n",
    "df_csv \\\n",
    "  .write \\\n",
    "  .format(\"jdbc\") \\\n",
    "  .mode(\"append\") \\\n",
    "  .option(\"driver\", \"com.mysql.cj.jdbc.Driver\") \\\n",
    "  .option(\"url\", url) \\\n",
    "  .option(\"dbtable\", tablename) \\\n",
    "  .option(\"user\", user) \\\n",
    "  .option(\"password\", password) \\\n",
    "  .save()\n",
    "\n",
    "print('done')"
   ]
  },
  {
   "cell_type": "code",
   "execution_count": null,
   "id": "8413ca9c",
   "metadata": {},
   "outputs": [],
   "source": []
  }
 ],
 "metadata": {
  "kernelspec": {
   "display_name": "Python 3 (ipykernel)",
   "language": "python",
   "name": "python3"
  },
  "language_info": {
   "codemirror_mode": {
    "name": "ipython",
    "version": 3
   },
   "file_extension": ".py",
   "mimetype": "text/x-python",
   "name": "python",
   "nbconvert_exporter": "python",
   "pygments_lexer": "ipython3",
   "version": "3.7.16"
  }
 },
 "nbformat": 4,
 "nbformat_minor": 5
}
